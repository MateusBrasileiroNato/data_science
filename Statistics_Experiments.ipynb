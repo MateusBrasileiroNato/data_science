{
  "nbformat": 4,
  "nbformat_minor": 0,
  "metadata": {
    "colab": {
      "name": "Statistics Experiments",
      "provenance": [],
      "authorship_tag": "ABX9TyMkEB7gey3f5Mdk5/HsFknQ",
      "include_colab_link": true
    },
    "kernelspec": {
      "name": "python3",
      "display_name": "Python 3"
    },
    "language_info": {
      "name": "python"
    }
  },
  "cells": [
    {
      "cell_type": "markdown",
      "metadata": {
        "id": "view-in-github",
        "colab_type": "text"
      },
      "source": [
        "<a href=\"https://colab.research.google.com/github/MateusBrasileiroNato/data_science/blob/main/Statistics_Experiments.ipynb\" target=\"_parent\"><img src=\"https://colab.research.google.com/assets/colab-badge.svg\" alt=\"Open In Colab\"/></a>"
      ]
    },
    {
      "cell_type": "code",
      "metadata": {
        "id": "PCl8Fevmj01g"
      },
      "source": [
        "import pandas as pd\n",
        "from scipy.special import comb\n",
        "from scipy.stats import binom\n",
        "import numpy as np\n",
        "from scipy.stats import poisson\n",
        "from scipy.stats import norm"
      ],
      "execution_count": 2,
      "outputs": []
    },
    {
      "cell_type": "code",
      "metadata": {
        "id": "D3Q77pMmkhAl"
      },
      "source": [
        "dados = pd.read_csv('dados.csv')"
      ],
      "execution_count": 11,
      "outputs": []
    },
    {
      "cell_type": "markdown",
      "metadata": {
        "id": "XeayLviapSnk"
      },
      "source": [
        "# DISTRIBUIÇÃO BINOMIAL"
      ]
    },
    {
      "cell_type": "code",
      "metadata": {
        "id": "A6PsaEmZl1F9"
      },
      "source": [
        "# EXEMPLO: MEGA SENA\n",
        "\n",
        "combinacoes = comb(60, 6)\n",
        "probabilidade = 1 / combinacoes\n",
        "print('%0.15f' % probabilidade)"
      ],
      "execution_count": null,
      "outputs": []
    },
    {
      "cell_type": "code",
      "metadata": {
        "id": "c9r9knrCmkZV"
      },
      "source": [
        "# EXEMPLO: PROBABILIDADE DE ACERTAR 5 EM UMA PROVA\n",
        "\n",
        "numero_de_alternativas_por_questao = 3\n",
        "p = 1 / numero_de_alternativas_por_questao\n",
        "\n",
        "q = 1 - p"
      ],
      "execution_count": null,
      "outputs": []
    },
    {
      "cell_type": "code",
      "metadata": {
        "id": "rLLBCMy1nUJv"
      },
      "source": [
        "k = 5\n",
        "n = 10\n",
        "\n",
        "probabilidade = (comb(n, k)) * (p ** k) * (q ** (n - k))\n",
        "print('%0.8f' % probabilidade)"
      ],
      "execution_count": null,
      "outputs": []
    },
    {
      "cell_type": "code",
      "metadata": {
        "id": "VnWLxqRrnyzZ"
      },
      "source": [
        "# EXEMPLO: PROBABILIDADE DE ACERTAR ACIMA DE 5 EM UMA PROVA\n",
        "\n",
        "binom.pmf([5, 6, 7, 8, 9, 10], n, p).sum()\n",
        "probabilidade = 1 - binom.cdf(4, n, p)\n",
        "probabilidade"
      ],
      "execution_count": null,
      "outputs": []
    },
    {
      "cell_type": "code",
      "metadata": {
        "id": "RINsJW4noqKL"
      },
      "source": [
        "# EXEMPLO: PROBABILIDADE GINCANAS\n",
        "\n",
        "p = 0.6 # 60% DE PARTICIPANTES MULHERES\n",
        "n = 12 # QUANTIDADE DE RODADAS\n",
        "k = 8 # PROBABILIDADE DE HAVEREM 8 MULHERES\n",
        "\n",
        "probabilidade = binom.pmf(k, n, p)\n",
        "print('%0.8f' % probabilidade)"
      ],
      "execution_count": null,
      "outputs": []
    },
    {
      "cell_type": "code",
      "metadata": {
        "id": "ImEQkuXxp437"
      },
      "source": [
        "# MÉDIA DE DISTRIBUIÇÃO BINOMIAL\n",
        "# PROBABILIDADE DE 30 EQUIPES POSSUÍREM A MESMA CONFIGURAÇÃO PROBABILÍSTICA\n",
        "\n",
        "equipes = 30 * probabilidade\n",
        "equipes"
      ],
      "execution_count": null,
      "outputs": []
    },
    {
      "cell_type": "markdown",
      "metadata": {
        "id": "ztxlIp3ZqSLy"
      },
      "source": [
        "# DISTRIBUIÇÃO DE POISSON"
      ]
    },
    {
      "cell_type": "code",
      "metadata": {
        "id": "LLVw2C3yqUv3"
      },
      "source": [
        "# EXEMPLO: MÉDIA DE PEDIDOS DE UM RESTAURANTE\n",
        "\n",
        "# e = NÚMERO DE EULER\n",
        "\n",
        "media_pedidos = 20\n",
        "k = 15 # PROBABILIDADE DO RESTAURANTE RECEBER 15 PEDIDOS EM 1 HORA\n",
        "\n",
        "probabilidade_pedidos = ((np.e ** (-media_pedidos)) * (media_pedidos ** k)) / (np.math.factorial(k))\n",
        "print('%0.8f' % probabilidade_pedidos)"
      ],
      "execution_count": null,
      "outputs": []
    },
    {
      "cell_type": "code",
      "metadata": {
        "id": "sbY5g_sor2r2"
      },
      "source": [
        "# OUTRA FORMA\n",
        "\n",
        "probabilidade_pedidos = poisson.pmf(k, media)\n",
        "print('%0.8f' % probabilidade_pedidos)"
      ],
      "execution_count": null,
      "outputs": []
    },
    {
      "cell_type": "markdown",
      "metadata": {
        "id": "wuQ-13YrsEKm"
      },
      "source": [
        "# DISTRIBUIÇÃO NORMAL"
      ]
    },
    {
      "cell_type": "code",
      "metadata": {
        "id": "vR709cNxsHgZ"
      },
      "source": [
        "# EXEMPLO: ALTURA DE MORADORES DE UMA CIDADE COM TABELA NORMAL Z\n",
        "\n",
        "# TABELA NORMAL Z \n",
        "\n",
        "tabela_normal_padronizada = pd.DataFrame(\n",
        "    [], \n",
        "        index=[\"{0:0.2f}\".format(i / 100) for i in range(0, 400, 10)],\n",
        "        columns = [\"{0:0.2f}\".format(i / 100) for i in range(0, 10)])\n",
        "\n",
        "for index in tabela_normal_padronizada.index:\n",
        "    for column in tabela_normal_padronizada.columns:\n",
        "        Z = np.round(float(index) + float(column), 2)\n",
        "        tabela_normal_padronizada.loc[index, column] = \"{0:0.4f}\".format(norm.cdf(Z))\n",
        "\n",
        "tabela_normal_padronizada.rename_axis('Z', axis = 'columns', inplace = True)\n",
        "\n",
        "tabela_normal_padronizada"
      ],
      "execution_count": null,
      "outputs": []
    },
    {
      "cell_type": "code",
      "metadata": {
        "id": "LAue5UJWu7sR"
      },
      "source": [
        "media_altura = 1.7\n",
        "desvpad_altura = 0.1\n",
        "\n",
        "Z = (1.8 - media_altura) / desvpad_altura\n",
        "Z"
      ],
      "execution_count": null,
      "outputs": []
    },
    {
      "cell_type": "code",
      "metadata": {
        "id": "lqOj5fDevASQ"
      },
      "source": [
        "# PROBABILIDADE PERCENTUAL CONFORME POSIÇÃO DE Z NA TABELA NORMAL Z\n",
        "\n",
        "norm.cdf(Z) * 100"
      ],
      "execution_count": null,
      "outputs": []
    },
    {
      "cell_type": "markdown",
      "metadata": {
        "id": "6SaJMJhQl4EZ"
      },
      "source": [
        "# AMOSTRAGEM ALEATÓRIA SIMPLES"
      ]
    },
    {
      "cell_type": "code",
      "metadata": {
        "id": "AAfgxHBTl2TP"
      },
      "source": [
        "amostra = dados.sample(n = 1000, random_state = 101)"
      ],
      "execution_count": 14,
      "outputs": []
    },
    {
      "cell_type": "code",
      "metadata": {
        "id": "XwExW1TDmZ3s"
      },
      "source": [
        "amostra.Renda.mean()"
      ],
      "execution_count": null,
      "outputs": []
    },
    {
      "cell_type": "code",
      "metadata": {
        "id": "g86dSAHCmybq"
      },
      "source": [
        "dados.Sexo.value_counts(normalize = True)"
      ],
      "execution_count": null,
      "outputs": []
    },
    {
      "cell_type": "markdown",
      "metadata": {
        "id": "6iXKDvQhnTSD"
      },
      "source": [
        "# INTERVALO DE CONFIANÇA"
      ]
    },
    {
      "cell_type": "code",
      "metadata": {
        "id": "1i2_dLC9qFEe"
      },
      "source": [
        "# EXEMPLO ALEATÓRIO\n",
        "\n",
        "tabela_normal_padronizada[16:26]"
      ],
      "execution_count": null,
      "outputs": []
    },
    {
      "cell_type": "code",
      "metadata": {
        "id": "47lVccm2rX--"
      },
      "source": [
        "media_amostra = 5050\n",
        "desvio_padrao = 150\n",
        "n = 20\n",
        "raiz_n = np.sqrt(n)"
      ],
      "execution_count": 65,
      "outputs": []
    },
    {
      "cell_type": "code",
      "metadata": {
        "id": "8HGvIGNTr-Av"
      },
      "source": [
        "sigma = desvio_padrao / raiz_n"
      ],
      "execution_count": 66,
      "outputs": []
    },
    {
      "cell_type": "code",
      "metadata": {
        "id": "FNMK4iiRrXKR"
      },
      "source": [
        "intervalo_de_confianca = norm.interval(alpha = 0.95, loc = media_amostra, scale = sigma)\n",
        "intervalo_de_confianca"
      ],
      "execution_count": null,
      "outputs": []
    },
    {
      "cell_type": "markdown",
      "metadata": {
        "id": "j31pbRPuuFpU"
      },
      "source": [
        "# TAMANHO DE AMOSTRA"
      ]
    },
    {
      "cell_type": "code",
      "metadata": {
        "id": "1SoDDhlOuE1E"
      },
      "source": [
        "# EXEMPLO COM Z A NÍVEL DE CONFIANÇA DE 95% (1.96)\n",
        "\n",
        "z = norm.ppf(0.975)\n",
        "sigma = 3323.39\n",
        "e = 100"
      ],
      "execution_count": 81,
      "outputs": []
    },
    {
      "cell_type": "code",
      "metadata": {
        "id": "y6xkQcjuu3Vb"
      },
      "source": [
        "tamanho_amostra = (z * (sigma / e)) ** 2\n",
        "int(tamanho_amostra.round())"
      ],
      "execution_count": null,
      "outputs": []
    },
    {
      "cell_type": "markdown",
      "metadata": {
        "id": "riHhiND2qC3t"
      },
      "source": [
        "# TAMANHO DE AMOSTRA FINITA"
      ]
    },
    {
      "cell_type": "code",
      "metadata": {
        "id": "LPNkI9NWxJvu"
      },
      "source": [
        "# EXEMPLO: INDÚSTRIA DE REFRIGERANTES\n",
        "\n",
        "N = 1000                      # LATAS\n",
        "z = norm.ppf(0.975)           # 1.96\n",
        "s = 12                        # DESVIO PADRÃO 12 ML\n",
        "e = 5                         # ERRO MÁXIMO"
      ],
      "execution_count": 88,
      "outputs": []
    },
    {
      "cell_type": "code",
      "metadata": {
        "colab": {
          "base_uri": "https://localhost:8080/"
        },
        "id": "5gw4p-W5xnWw",
        "outputId": "edaf8ef7-2040-4897-d420-ea09e23f1d74"
      },
      "source": [
        "tamanho_da_amostra = ((z ** 2) * (s ** 2) * (N)) / (((z ** 2) * (s ** 2)) + ((e ** 2) * (N - 1)))\n",
        "int(tamanho_da_amostra.round())"
      ],
      "execution_count": 90,
      "outputs": [
        {
          "output_type": "execute_result",
          "data": {
            "text/plain": [
              "22"
            ]
          },
          "metadata": {
            "tags": []
          },
          "execution_count": 90
        }
      ]
    }
  ]
}