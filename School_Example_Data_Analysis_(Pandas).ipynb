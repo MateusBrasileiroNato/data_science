{
  "nbformat": 4,
  "nbformat_minor": 0,
  "metadata": {
    "colab": {
      "name": "School Example Data Analysis (Pandas)",
      "provenance": [],
      "authorship_tag": "ABX9TyM+Yj0HtyR7pb1/MrD57Em9",
      "include_colab_link": true
    },
    "kernelspec": {
      "name": "python3",
      "display_name": "Python 3"
    },
    "language_info": {
      "name": "python"
    }
  },
  "cells": [
    {
      "cell_type": "markdown",
      "metadata": {
        "id": "view-in-github",
        "colab_type": "text"
      },
      "source": [
        "<a href=\"https://colab.research.google.com/github/MateusBrasileiroNato/data_science/blob/main/School_Example_Data_Analysis_(Pandas).ipynb\" target=\"_parent\"><img src=\"https://colab.research.google.com/assets/colab-badge.svg\" alt=\"Open In Colab\"/></a>"
      ]
    },
    {
      "cell_type": "code",
      "metadata": {
        "id": "kXOAsDtirrGe"
      },
      "source": [
        "import pandas as pd\n",
        "import numpy as np\n",
        "import html5lib\n",
        "import seaborn as sns\n",
        "!pip3 install html5lib\n",
        "!pip3 install lxml\n",
        "!pip3 install sqlalchemy\n",
        "\n",
        "nomes_f = pd.read_json('https://servicodados.ibge.gov.br/api/v1/censos/nomes/ranking?qtd=20&sexo=f')\n",
        "nomes_m = pd.read_json('https://servicodados.ibge.gov.br/api/v1/censos/nomes/ranking?qtd=20&sexo=m')"
      ],
      "execution_count": null,
      "outputs": []
    },
    {
      "cell_type": "code",
      "metadata": {
        "id": "9pRqEn8KsnP4"
      },
      "source": [
        "nomes_f"
      ],
      "execution_count": null,
      "outputs": []
    },
    {
      "cell_type": "code",
      "metadata": {
        "id": "wXhx-kxXsomu"
      },
      "source": [
        "nomes_m"
      ],
      "execution_count": null,
      "outputs": []
    },
    {
      "cell_type": "code",
      "metadata": {
        "id": "2oIXmeMwtpdw"
      },
      "source": [
        "print('Quantidade de nomes: ' + str(len(nomes_f) + len(nomes_m)))"
      ],
      "execution_count": null,
      "outputs": []
    },
    {
      "cell_type": "code",
      "metadata": {
        "id": "zltKwQFRvCY9"
      },
      "source": [
        "frames = [nomes_f, nomes_m]"
      ],
      "execution_count": 15,
      "outputs": []
    },
    {
      "cell_type": "code",
      "metadata": {
        "id": "LEymZKWPvNVY"
      },
      "source": [
        "nomes = pd.concat(frames)['nome'].to_frame()"
      ],
      "execution_count": 34,
      "outputs": []
    },
    {
      "cell_type": "code",
      "metadata": {
        "id": "gE8ibvkpviAQ"
      },
      "source": [
        "nomes.sample(5)"
      ],
      "execution_count": null,
      "outputs": []
    },
    {
      "cell_type": "code",
      "metadata": {
        "id": "nw6K6u2jvwuz"
      },
      "source": [
        "# CREATING EMAILS FOR USERS\n",
        "\n",
        "np.random.seed(15)"
      ],
      "execution_count": 71,
      "outputs": []
    },
    {
      "cell_type": "code",
      "metadata": {
        "id": "YbaQL5dpwOvZ"
      },
      "source": [
        "total_alunos = len(nomes)"
      ],
      "execution_count": null,
      "outputs": []
    },
    {
      "cell_type": "code",
      "metadata": {
        "id": "7HSHchsjwjpO"
      },
      "source": [
        "nomes['id_aluno'] = np.random.permutation(total_alunos) + 1"
      ],
      "execution_count": 115,
      "outputs": []
    },
    {
      "cell_type": "code",
      "metadata": {
        "id": "g5Yg-6iTxGbz"
      },
      "source": [
        "dominios = ['@dominiodoemmail.com.br', '@servicodoemail.com']\n",
        "nomes['dominio'] = np.random.choice(dominios, total_alunos)\n",
        "nomes['email'] = nomes.nome.str.cat(nomes.dominio).str.lower()"
      ],
      "execution_count": 54,
      "outputs": []
    },
    {
      "cell_type": "code",
      "metadata": {
        "id": "h_YQkwIF1OyR"
      },
      "source": [
        "# CREATING COURSES\n",
        "\n",
        "url = 'http://tabela-cursos.herokuapp.com/index.html'\n",
        "cursos = pd.read_html(url)\n",
        "cursos = cursos[0]\n",
        "cursos"
      ],
      "execution_count": null,
      "outputs": []
    },
    {
      "cell_type": "code",
      "metadata": {
        "id": "iX94SCKw1uqm"
      },
      "source": [
        "# RENAMING AND ALTERING COURSES INDEX\n",
        "\n",
        "cursos = cursos.rename(columns = {'Nome do curso': 'nome_do_curso'})\n",
        "cursos['id'] = cursos.index + 1\n",
        "cursos = cursos.set_index('id')\n",
        "cursos"
      ],
      "execution_count": null,
      "outputs": []
    },
    {
      "cell_type": "code",
      "metadata": {
        "id": "TPe_iZVP4px4"
      },
      "source": [
        "# ANALYSING ENROLLMENTS\n",
        "\n",
        "nomes['matriculas'] = np.ceil(np.random.exponential(size = total_alunos) * 1.5).astype(int)\n",
        "nomes.matriculas.describe()"
      ],
      "execution_count": null,
      "outputs": []
    },
    {
      "cell_type": "code",
      "metadata": {
        "id": "2k2tAkxK6RFA"
      },
      "source": [
        "nomes.matriculas.value_counts()"
      ],
      "execution_count": null,
      "outputs": []
    },
    {
      "cell_type": "code",
      "metadata": {
        "id": "Y9pisqjK6H-H"
      },
      "source": [
        "sns.distplot(nomes.matriculas)"
      ],
      "execution_count": null,
      "outputs": []
    },
    {
      "cell_type": "code",
      "metadata": {
        "id": "Ql1vgXHy6wZB"
      },
      "source": [
        "# SELECTING COURSES\n",
        "\n",
        "todas_matriculas = []\n",
        "x = np.random.rand(20)\n",
        "prob = x / sum(x)"
      ],
      "execution_count": 112,
      "outputs": []
    },
    {
      "cell_type": "code",
      "metadata": {
        "id": "Hjw6rRYf9CVP"
      },
      "source": [
        "for index, row in nomes.iterrows():\n",
        "\n",
        "    id = row.id_aluno\n",
        "    matriculas = row.matriculas\n",
        "\n",
        "    for i in range(matriculas):\n",
        "        \n",
        "        mat = [id, np.random.choice(cursos.index, p = prob)]\n",
        "        todas_matriculas.append(mat)\n",
        "\n",
        "matriculas = pd.DataFrame(todas_matriculas, columns = ['id_aluno', 'id_curso'])\n",
        "matriculas.head(5)"
      ],
      "execution_count": null,
      "outputs": []
    },
    {
      "cell_type": "code",
      "metadata": {
        "id": "tNQJU_WMGCru"
      },
      "source": [
        "matriculas_por_curso = matriculas.groupby('id_curso').count().join(cursos['nome_do_curso']).rename(columns = {'id_aluno': 'quantidade_de_alunos'})"
      ],
      "execution_count": 148,
      "outputs": []
    },
    {
      "cell_type": "code",
      "metadata": {
        "id": "64l810GMHBHc"
      },
      "source": [
        "matriculas_por_curso"
      ],
      "execution_count": null,
      "outputs": []
    },
    {
      "cell_type": "code",
      "metadata": {
        "id": "VqYy-RsIH4uI"
      },
      "source": [
        "# TO CSV\n",
        "\n",
        "matriculas_por_curso.to_csv('matriculas_por_curso.csv', index = False)\n",
        "pd.read_csv('matriculas_por_curso.csv')"
      ],
      "execution_count": null,
      "outputs": []
    },
    {
      "cell_type": "code",
      "metadata": {
        "id": "oowic9SrIbHa"
      },
      "source": [
        "# TO JSON\n",
        "\n",
        "matriculas_json = matriculas_por_curso.to_json()\n",
        "matriculas_json"
      ],
      "execution_count": null,
      "outputs": []
    },
    {
      "cell_type": "code",
      "metadata": {
        "id": "nVJglvNKIma7"
      },
      "source": [
        "# TO HTML\n",
        "\n",
        "matriculas_html = matriculas_por_curso.to_html()\n",
        "print(matriculas_html)"
      ],
      "execution_count": null,
      "outputs": []
    },
    {
      "cell_type": "code",
      "metadata": {
        "id": "HucGWp4ILQOH"
      },
      "source": [
        "# TO SQL\n",
        "\n",
        "from sqlalchemy import create_engine, MetaData, Table\n",
        "\n",
        "engine = create_engine('sqlite:///:memory:') \n",
        "matriculas_por_curso.to_sql('matriculas', engine)\n",
        "print(engine.table_names())"
      ],
      "execution_count": null,
      "outputs": []
    },
    {
      "cell_type": "code",
      "metadata": {
        "id": "9iMnGa5QLz7R"
      },
      "source": [
        "# SQL PANDAS QUERY TYPES EXAMPLES\n",
        "\n",
        "query =  'select * from matriculas where quantidade_de_alunos < 20'\n",
        "pd.read_sql(query, engine)"
      ],
      "execution_count": null,
      "outputs": []
    },
    {
      "cell_type": "code",
      "metadata": {
        "id": "oz4y-8NPMfk3"
      },
      "source": [
        "todas_matriculas = pd.read_sql_table('matriculas', engine, columns = ['nome_do_curso', 'quantidade_de_alunos'])\n",
        "todas_matriculas.query('quantidade_de_alunos < 10')"
      ],
      "execution_count": null,
      "outputs": []
    },
    {
      "cell_type": "code",
      "metadata": {
        "id": "4Slb0qbPMyLk"
      },
      "source": [
        "# QUERY RESULT TO SQL\n",
        "\n",
        "todas_matriculas.to_sql('todas_matriculas', con = engine)\n",
        "print(engine.table_names())"
      ],
      "execution_count": null,
      "outputs": []
    },
    {
      "cell_type": "code",
      "metadata": {
        "id": "0jwShEZOOVzA"
      },
      "source": [
        "# NEXT CREW EXAMPLE\n",
        "\n",
        "id_curso = 16\n",
        "proxima_turma = matriculas.query(\"id_curso == {}\".format(id_curso))"
      ],
      "execution_count": 222,
      "outputs": []
    },
    {
      "cell_type": "code",
      "metadata": {
        "id": "cHdUI94uOvmI"
      },
      "source": [
        "proxima_turma = proxima_turma.set_index('id_aluno').join(nomes.set_index('id_aluno'))['nome'].to_frame()\n",
        "proxima_turma"
      ],
      "execution_count": null,
      "outputs": []
    },
    {
      "cell_type": "code",
      "metadata": {
        "id": "-tD6Nj_QP4MJ"
      },
      "source": [
        "nome_curso = cursos.loc[id_curso]\n",
        "nome_curso"
      ],
      "execution_count": null,
      "outputs": []
    },
    {
      "cell_type": "code",
      "metadata": {
        "id": "lRW6zm37PM3a"
      },
      "source": [
        "nome_curso = nome_curso.nome_do_curso\n",
        "nome_curso"
      ],
      "execution_count": null,
      "outputs": []
    },
    {
      "cell_type": "code",
      "metadata": {
        "id": "2q1ckwtCPOvy"
      },
      "source": [
        "proxima_turma.rename(columns = {'nome':'Alunos do curso de {}'.format(nome_curso)})"
      ],
      "execution_count": null,
      "outputs": []
    },
    {
      "cell_type": "code",
      "metadata": {
        "id": "l0UEAsG4SMwC"
      },
      "source": [
        "# TO EXCEL\n",
        "\n",
        "proxima_turma.to_excel('proxima_turma.xlsx', index = False)\n",
        "pd.read_excel('proxima_turma.xlsx')"
      ],
      "execution_count": null,
      "outputs": []
    }
  ]
}