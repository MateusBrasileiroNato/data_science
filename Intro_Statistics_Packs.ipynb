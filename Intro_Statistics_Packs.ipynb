{
  "nbformat": 4,
  "nbformat_minor": 0,
  "metadata": {
    "colab": {
      "name": "Intro Statistics Packs",
      "provenance": [],
      "include_colab_link": true
    },
    "kernelspec": {
      "name": "python3",
      "display_name": "Python 3"
    },
    "language_info": {
      "name": "python"
    }
  },
  "cells": [
    {
      "cell_type": "markdown",
      "metadata": {
        "id": "view-in-github",
        "colab_type": "text"
      },
      "source": [
        "<a href=\"https://colab.research.google.com/github/MateusBrasileiroNato/data_science/blob/main/Intro_Statistics_Packs.ipynb\" target=\"_parent\"><img src=\"https://colab.research.google.com/assets/colab-badge.svg\" alt=\"Open In Colab\"/></a>"
      ]
    },
    {
      "cell_type": "code",
      "metadata": {
        "colab": {
          "base_uri": "https://localhost:8080/"
        },
        "id": "J3XJn6uxi5Gr",
        "outputId": "812cf371-e3b9-44c2-d397-2bbb3628d0c9"
      },
      "source": [
        "# MEAN\n",
        "\n",
        "import numpy\n",
        "\n",
        "dados = [10, 15, 13, 18, 11, 12, 14, 15, 16, 14, 12, 10, 11, 19, 18, 19, 13]\n",
        "\n",
        "x = numpy.mean(dados)\n",
        "print(x)"
      ],
      "execution_count": null,
      "outputs": [
        {
          "output_type": "stream",
          "text": [
            "14.117647058823529\n"
          ],
          "name": "stdout"
        }
      ]
    },
    {
      "cell_type": "code",
      "metadata": {
        "colab": {
          "base_uri": "https://localhost:8080/"
        },
        "id": "CrrF3nUgkhqF",
        "outputId": "1b9a8692-b649-433b-fbe2-bd0b8fba9ef8"
      },
      "source": [
        "# MEDIAN\n",
        "\n",
        "import numpy\n",
        "\n",
        "dados = [10, 15, 13, 18, 11, 12, 14, 15, 16, 14, 12, 10, 11, 19, 18, 19, 13]\n",
        "\n",
        "x = numpy.median(dados)\n",
        "print(x)"
      ],
      "execution_count": null,
      "outputs": [
        {
          "output_type": "stream",
          "text": [
            "14.0\n"
          ],
          "name": "stdout"
        }
      ]
    },
    {
      "cell_type": "code",
      "metadata": {
        "colab": {
          "base_uri": "https://localhost:8080/"
        },
        "id": "HmHEw-N5knV5",
        "outputId": "f57daa05-e03d-4de7-d347-3f10cb0de278"
      },
      "source": [
        "# MODE\n",
        "\n",
        "from scipy import stats\n",
        "\n",
        "dados = [10, 15, 13, 18, 11, 12, 14, 15, 16, 14, 12, 10, 11, 19, 18, 19, 13]\n",
        "\n",
        "x = stats.mode(dados)\n",
        "print(x)"
      ],
      "execution_count": null,
      "outputs": [
        {
          "output_type": "stream",
          "text": [
            "ModeResult(mode=array([10]), count=array([2]))\n"
          ],
          "name": "stdout"
        }
      ]
    },
    {
      "cell_type": "code",
      "metadata": {
        "colab": {
          "base_uri": "https://localhost:8080/"
        },
        "id": "T6qMj9BqlTnl",
        "outputId": "5679ff4f-eeac-47bf-dc3d-9a081854b30e"
      },
      "source": [
        "# STANDARD DEVIATION\n",
        "\n",
        "import numpy\n",
        "\n",
        "dados = [10, 15, 13, 18, 11, 12, 14, 15, 16, 14, 12, 10, 11, 19, 18, 19, 13]\n",
        "\n",
        "x = numpy.std(dados)\n",
        "print(x)"
      ],
      "execution_count": null,
      "outputs": [
        {
          "output_type": "stream",
          "text": [
            "2.94822684379804\n"
          ],
          "name": "stdout"
        }
      ]
    },
    {
      "cell_type": "code",
      "metadata": {
        "colab": {
          "base_uri": "https://localhost:8080/"
        },
        "id": "ogSV1iREmBB6",
        "outputId": "ea5f236e-73a4-4f40-8e68-0b33ed045c88"
      },
      "source": [
        "# VARIANCE\n",
        "\n",
        "import numpy\n",
        "\n",
        "dados = [10, 15, 13, 18, 11, 12, 14, 15, 16, 14, 12, 10, 11, 19, 18, 19, 13]\n",
        "\n",
        "x = numpy.var(dados)\n",
        "print(x)"
      ],
      "execution_count": null,
      "outputs": [
        {
          "output_type": "stream",
          "text": [
            "8.692041522491351\n"
          ],
          "name": "stdout"
        }
      ]
    },
    {
      "cell_type": "code",
      "metadata": {
        "colab": {
          "base_uri": "https://localhost:8080/"
        },
        "id": "NtwCfftgmaT3",
        "outputId": "475aca0d-1f08-4549-e5ef-c58d192ba2fe"
      },
      "source": [
        "# PERCENTIL (75% of data are bellow 16 and 25% are above)\n",
        "\n",
        "import numpy\n",
        "\n",
        "dados = [10, 15, 13, 18, 11, 12, 14, 15, 16, 14, 12, 10, 11, 19, 18, 19, 13]\n",
        "\n",
        "x = numpy.percentile(dados, 75)\n",
        "print(x)"
      ],
      "execution_count": null,
      "outputs": [
        {
          "output_type": "stream",
          "text": [
            "16.0\n"
          ],
          "name": "stdout"
        }
      ]
    },
    {
      "cell_type": "code",
      "metadata": {
        "id": "Jdp3c98KnS8Z"
      },
      "source": [
        "# CREATES RANDOM UNIFORM ARRAY (100 float numbers between 1 and 10)\n",
        "\n",
        "import numpy\n",
        "\n",
        "x = numpy.random.uniform(1.0, 10.0, 100)\n",
        "\n",
        "print(x)"
      ],
      "execution_count": null,
      "outputs": []
    },
    {
      "cell_type": "code",
      "metadata": {
        "id": "M-zG0Ip0ohKR"
      },
      "source": [
        "# RANDOM BIG DATA HISTOGRAM\n",
        "\n",
        "import numpy\n",
        "import matplotlib.pyplot as plt\n",
        "\n",
        "x = numpy.random.uniform(0.0, 10.0, 100000) # (eixo x inicial, eixo x final, quantidade de dados)\n",
        "\n",
        "plt.hist(x, 1000) # quantidade de barras\n",
        "plt.show()"
      ],
      "execution_count": null,
      "outputs": []
    },
    {
      "cell_type": "code",
      "metadata": {
        "id": "EcJGE53bp_QX"
      },
      "source": [
        "# NORMAL DISTRIBUITION GRAPH\n",
        "\n",
        "import numpy\n",
        "import matplotlib.pyplot as plt\n",
        "\n",
        "x = numpy.random.normal(5.0, 10.0, 100000)\n",
        "\n",
        "plt.hist(x, 1000)\n",
        "plt.show()"
      ],
      "execution_count": null,
      "outputs": []
    },
    {
      "cell_type": "code",
      "metadata": {
        "id": "Zv0jJzG4qU0P"
      },
      "source": [
        "# DISPERSION GRAPH\n",
        "\n",
        "import matplotlib.pyplot as plt\n",
        "\n",
        "x = [5, 7, 8, 6, 2, 17, 2, 7, 4, 11, 12, 8, 6]                    # axis x\n",
        "y = [98, 86, 87, 85, 108, 75, 102, 87, 90, 78, 77, 85, 86]        # axis y\n",
        "\n",
        "plt.scatter(x, y)\n",
        "plt.show()"
      ],
      "execution_count": null,
      "outputs": []
    },
    {
      "cell_type": "code",
      "metadata": {
        "id": "avwdKSnWrc9X"
      },
      "source": [
        "# PARETO GRAPH\n",
        "\n",
        "from numpy import random\n",
        "import matplotlib.pyplot as plt\n",
        "import seaborn as sns\n",
        "\n",
        "sns.distplot(random.pareto(a=2, size=200), kde=False)   # a = format parameter; size = format of the returned array\n",
        "\n",
        "plt.show()"
      ],
      "execution_count": null,
      "outputs": []
    }
  ]
}