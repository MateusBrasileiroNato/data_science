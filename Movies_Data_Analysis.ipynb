{
  "nbformat": 4,
  "nbformat_minor": 0,
  "metadata": {
    "colab": {
      "name": "Movies Data Analysis",
      "provenance": [],
      "authorship_tag": "ABX9TyN3rCrEJiw+FtJj9v9RMtmy",
      "include_colab_link": true
    },
    "kernelspec": {
      "name": "python3",
      "display_name": "Python 3"
    },
    "language_info": {
      "name": "python"
    }
  },
  "cells": [
    {
      "cell_type": "markdown",
      "metadata": {
        "id": "view-in-github",
        "colab_type": "text"
      },
      "source": [
        "<a href=\"https://colab.research.google.com/github/MateusBrasileiroNato/data_science/blob/main/Movies_Data_Analysis.ipynb\" target=\"_parent\"><img src=\"https://colab.research.google.com/assets/colab-badge.svg\" alt=\"Open In Colab\"/></a>"
      ]
    },
    {
      "cell_type": "markdown",
      "metadata": {
        "id": "JUMaPuUdvHLs"
      },
      "source": [
        "# Movies Data Analysis\n"
      ]
    },
    {
      "cell_type": "code",
      "metadata": {
        "id": "mAXNRAlxDDgc"
      },
      "source": [
        "# Files from https://grouplens.org/datasets/movielens/\n",
        "\n",
        "import pandas as pd\n",
        "\n",
        "ratings = pd.read_csv('ratings.csv')\n",
        "\n",
        "ratings.head()"
      ],
      "execution_count": null,
      "outputs": []
    },
    {
      "cell_type": "code",
      "metadata": {
        "id": "NClnn6QzHI00"
      },
      "source": [
        "ratings.shape"
      ],
      "execution_count": null,
      "outputs": []
    },
    {
      "cell_type": "code",
      "metadata": {
        "id": "lUWcA5QqHL31"
      },
      "source": [
        "ratings.columns = ['User', 'MovieId', 'Rating', 'Time']\n",
        "ratings.head()"
      ],
      "execution_count": null,
      "outputs": []
    },
    {
      "cell_type": "code",
      "metadata": {
        "id": "Fx-YgDWCIFcd"
      },
      "source": [
        "ratings['Rating'].unique()"
      ],
      "execution_count": null,
      "outputs": []
    },
    {
      "cell_type": "code",
      "metadata": {
        "id": "K1dsHvbRI76x"
      },
      "source": [
        "ratings['Rating'].value_counts()"
      ],
      "execution_count": null,
      "outputs": []
    },
    {
      "cell_type": "code",
      "metadata": {
        "id": "tlRXssJXJEvr"
      },
      "source": [
        "print('Mean: ', ratings.Rating.mean())\n",
        "print('Median: ', ratings.Rating.median())"
      ],
      "execution_count": null,
      "outputs": []
    },
    {
      "cell_type": "code",
      "metadata": {
        "id": "Rr29rjpeJr0g"
      },
      "source": [
        "ratings.Rating.plot(kind='hist')"
      ],
      "execution_count": null,
      "outputs": []
    },
    {
      "cell_type": "code",
      "metadata": {
        "id": "5qPKnAKCLo4u"
      },
      "source": [
        "ratings.Rating.describe()"
      ],
      "execution_count": null,
      "outputs": []
    },
    {
      "cell_type": "code",
      "metadata": {
        "id": "m6vhe_blMDW5"
      },
      "source": [
        "import matplotlib.pyplot as plt\n",
        "import seaborn as sns\n",
        "\n",
        "plt.figure(figsize = (5, 8))\n",
        "ratings.Rating\n",
        "sns.boxplot(ratings.Rating)"
      ],
      "execution_count": null,
      "outputs": []
    },
    {
      "cell_type": "code",
      "metadata": {
        "id": "0sNCyKIez6wm"
      },
      "source": [
        "sns.distplot(ratings.Rating, bins=10)"
      ],
      "execution_count": null,
      "outputs": []
    },
    {
      "cell_type": "code",
      "metadata": {
        "id": "Kx4d2D8S0v1e"
      },
      "source": [
        "import matplotlib.pyplot as plt\n",
        "\n",
        "plt.hist(ratings.Rating)\n",
        "plt.title('Histogram of Ratings')"
      ],
      "execution_count": null,
      "outputs": []
    },
    {
      "cell_type": "code",
      "metadata": {
        "id": "CH_9cYzETjGK"
      },
      "source": [
        "ratings_toy_story = ratings.query('MovieId == 1')\n",
        "ratings_jumanji= ratings.query('MovieId == 2')\n",
        "\n",
        "print(len(ratings_toy_story), len(ratings_jumanji))"
      ],
      "execution_count": null,
      "outputs": []
    },
    {
      "cell_type": "code",
      "metadata": {
        "id": "u0JnnrzAUfTt"
      },
      "source": [
        "print('Toy Story Mean Rating: %.2f' % ratings_toy_story.Rating.median())\n",
        "print('Jumanji Mean Rating: %.2f' % ratings_jumanji.Rating.median())"
      ],
      "execution_count": null,
      "outputs": []
    },
    {
      "cell_type": "code",
      "metadata": {
        "id": "Y__KPxZHoCZJ"
      },
      "source": [
        "print('Toy Story Median Rating: %.2f' % ratings_toy_story.Rating.mean())\n",
        "print('Jumanji Median Rating: %.2f' % ratings_jumanji.Rating.mean())"
      ],
      "execution_count": null,
      "outputs": []
    },
    {
      "cell_type": "code",
      "metadata": {
        "id": "GQmX6SxN8SO0"
      },
      "source": [
        "# File from https://www.kaggle.com/tmdb/tmdb-movie-metadata?select=tmdb_5000_movies.csv\n",
        "\n",
        "tmdb = pd.read_csv('tmdb_5000_movies.csv')\n",
        "tmdb.head()"
      ],
      "execution_count": null,
      "outputs": []
    },
    {
      "cell_type": "code",
      "metadata": {
        "id": "CTua8cHu9v02"
      },
      "source": [
        "tmdb.original_language.unique()"
      ],
      "execution_count": null,
      "outputs": []
    },
    {
      "cell_type": "code",
      "metadata": {
        "id": "0PgkYfPSAGBv"
      },
      "source": [
        "language_count = tmdb['original_language'].value_counts().to_frame().reset_index()\n",
        "language_count.columns = ['original_language', 'total']\n",
        "language_count.head()"
      ],
      "execution_count": null,
      "outputs": []
    },
    {
      "cell_type": "code",
      "metadata": {
        "id": "hShtnXqcBj6r"
      },
      "source": [
        "sns.barplot(x = 'original_language', y = 'total', data = language_count)"
      ],
      "execution_count": null,
      "outputs": []
    },
    {
      "cell_type": "code",
      "metadata": {
        "id": "bUiaDHWSCIW-"
      },
      "source": [
        "sns.catplot(x = 'original_language', kind = 'count', data = tmdb)"
      ],
      "execution_count": null,
      "outputs": []
    },
    {
      "cell_type": "code",
      "metadata": {
        "id": "VSYSz-PeK5M3"
      },
      "source": [
        "plt.pie(language_count['total'], labels = language_count['original_language'])"
      ],
      "execution_count": null,
      "outputs": []
    },
    {
      "cell_type": "code",
      "metadata": {
        "id": "l8CRxx6yMSYX"
      },
      "source": [
        "# Comparison: English x Other Languages\n",
        "\n",
        "total_by_language = tmdb['original_language'].value_counts()\n",
        "total_all = total_by_language.sum()\n",
        "total_en = total_by_language.loc['en']\n",
        "total_remains = total_all - total_en\n",
        "dt = {\n",
        "    'Languages' : ['English', 'Others'],\n",
        "    'total' : [total_en, total_remains]\n",
        "}\n",
        "\n",
        "dt = pd.DataFrame(data)\n",
        "dt"
      ],
      "execution_count": null,
      "outputs": []
    },
    {
      "cell_type": "code",
      "metadata": {
        "id": "fhkgCFwYOS8E"
      },
      "source": [
        "# Better visualization\n",
        "\n",
        "sns.barplot(x = 'Languages', y = 'Total', data = dt, palette = 'GnBu_d')\n"
      ],
      "execution_count": null,
      "outputs": []
    },
    {
      "cell_type": "code",
      "metadata": {
        "id": "uOnJFaKRTP_T"
      },
      "source": [
        ""
      ],
      "execution_count": null,
      "outputs": []
    }
  ]
}