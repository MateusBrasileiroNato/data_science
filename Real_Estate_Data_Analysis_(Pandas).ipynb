{
  "nbformat": 4,
  "nbformat_minor": 0,
  "metadata": {
    "colab": {
      "name": "Real Estate Data Analysis (Pandas)",
      "provenance": [],
      "mount_file_id": "1CEY2Qf8aUcr3xV22BhcrmSo9TtzPulSb",
      "authorship_tag": "ABX9TyPEGqsJGkJ6CQYZM0hY1epi",
      "include_colab_link": true
    },
    "kernelspec": {
      "name": "python3",
      "display_name": "Python 3"
    },
    "language_info": {
      "name": "python"
    }
  },
  "cells": [
    {
      "cell_type": "markdown",
      "metadata": {
        "id": "view-in-github",
        "colab_type": "text"
      },
      "source": [
        "<a href=\"https://colab.research.google.com/github/MateusBrasileiroNato/data_science/blob/main/Real_Estate_Data_Analysis_(Pandas).ipynb\" target=\"_parent\"><img src=\"https://colab.research.google.com/assets/colab-badge.svg\" alt=\"Open In Colab\"/></a>"
      ]
    },
    {
      "cell_type": "code",
      "metadata": {
        "id": "31NR0VsIooBT"
      },
      "source": [
        "import pandas as pd\n",
        "\n",
        "dados = pd.read_json(\n",
        "    path_or_buf = 'realestates.json',\n",
        "    orient = 'columns'\n",
        ")\n",
        "\n",
        "dados"
      ],
      "execution_count": null,
      "outputs": []
    },
    {
      "cell_type": "code",
      "metadata": {
        "id": "StVi8xeOszMF"
      },
      "source": [
        "bairros = pd.read_excel(\n",
        "    io = 'bairros.xlsx',\n",
        "    sheet_name = 'Preço médio por tipo',\n",
        "    usecols = 'C:E',\n",
        "    header = 2,\n",
        "    index_col = [0,1],\n",
        "    names = ['Bairros', 'Tipo', 'Valor m2 / Bairro']\n",
        ")\n",
        "\n",
        "bairros"
      ],
      "execution_count": null,
      "outputs": []
    },
    {
      "cell_type": "code",
      "metadata": {
        "id": "sz9Jnjn4zM0T"
      },
      "source": [
        "# 1. NORMALIZES JSON FILE\n",
        "\n",
        "dados_normal = pd.json_normalize(data = dados.normal)\n",
        "dados_normal"
      ],
      "execution_count": null,
      "outputs": []
    },
    {
      "cell_type": "code",
      "metadata": {
        "id": "1IiI7inZzkc6"
      },
      "source": [
        "# 2. NORMALIZES JSON FILE (SAME AS ABOVE)\n",
        "\n",
        "dados_normal['listings'].iloc[0]\n",
        "dados_normal"
      ],
      "execution_count": null,
      "outputs": []
    },
    {
      "cell_type": "code",
      "metadata": {
        "id": "qUTUQZW31dsZ"
      },
      "source": [
        "# EASIER WAY TO DO ALL THE STEPS ABOVE ONLY ONCE\n",
        "\n",
        "dados_normal_listings = pd.json_normalize(data = dados.normal, sep = '_', record_path = ['listings'])\n",
        "dados_normal_listings"
      ],
      "execution_count": null,
      "outputs": []
    },
    {
      "cell_type": "code",
      "metadata": {
        "id": "ZSENMcpI9k3A"
      },
      "source": [
        "dados_highlights_listings = pd.json_normalize(data = dados.highlights, sep = '_', record_path = ['listings'])\n",
        "dados_highlights_listings"
      ],
      "execution_count": null,
      "outputs": []
    },
    {
      "cell_type": "code",
      "metadata": {
        "id": "GLC2evmiN960"
      },
      "source": [
        "# TURNING STRING TO LIST\n",
        "# REMOVING \"[]\" AT \"[1:-1]\" \n",
        "# REPLACING \"'\" TO AN EMPTY SPACE\n",
        "# SPLITTING ITEMS EVERY TIME \", \" APPEARS\n",
        "\n",
        "columns = dados_normal_listings.filter(like = 'imovel_caracteristicas').columns\n",
        "\n",
        "for column in columns:\n",
        "    \n",
        "    dados_normal_listings[column] = dados_normal_listings[column].str[1:-1].str.replace(\"'\", \"\").str.split(\", \")\n",
        "    dados_highlights_listings[column] = dados_highlights_listings[column].str[1:-1].str.replace(\"'\", \"\").str.split(\", \")\n",
        "\n"
      ],
      "execution_count": 7,
      "outputs": []
    },
    {
      "cell_type": "code",
      "metadata": {
        "id": "21O868oJa4oS"
      },
      "source": [
        "dados_normal_listings.loc[0, 'imovel_caracteristicas_propriedade'][0]"
      ],
      "execution_count": null,
      "outputs": []
    },
    {
      "cell_type": "code",
      "metadata": {
        "id": "RfSMQk_7HzJG"
      },
      "source": [
        "# TESTING DATAFRAME SIZE \n",
        "\n",
        "dados_normal_listings.columns == dados_highlights_listings.columns"
      ],
      "execution_count": null,
      "outputs": []
    },
    {
      "cell_type": "code",
      "metadata": {
        "id": "2Pay4DT-bady"
      },
      "source": [
        "# APPENDING A TABLE TO ANOTHER\n",
        "\n",
        "dados_listings = dados_normal_listings.append(dados_highlights_listings, ignore_index = True)\n",
        "dados_listings"
      ],
      "execution_count": null,
      "outputs": []
    },
    {
      "cell_type": "code",
      "metadata": {
        "id": "RqDJYAmxb2zl"
      },
      "source": [
        "# ANOTHER METHOD TO DO THE SAME\n",
        "\n",
        "dados_listings = pd.concat([dados_normal_listings, dados_highlights_listings], ignore_index = True)\n",
        "dados_listings"
      ],
      "execution_count": null,
      "outputs": []
    },
    {
      "cell_type": "code",
      "metadata": {
        "id": "hsLRV7er59Tu"
      },
      "source": [
        "dados_listings.head(2)"
      ],
      "execution_count": null,
      "outputs": []
    },
    {
      "cell_type": "code",
      "metadata": {
        "id": "1vTNluuc6I2u"
      },
      "source": [
        "bairros"
      ],
      "execution_count": null,
      "outputs": []
    },
    {
      "cell_type": "code",
      "metadata": {
        "id": "9JOzfZb64dTs"
      },
      "source": [
        "bairros_amostra = dados_listings['imovel_endereco_bairro']\n",
        "bairros_amostra"
      ],
      "execution_count": null,
      "outputs": []
    },
    {
      "cell_type": "code",
      "metadata": {
        "id": "ZhOoe3ZL5dCj"
      },
      "source": [
        "bairros_todos = bairros.index.get_level_values('Bairros')\n",
        "bairros_todos"
      ],
      "execution_count": null,
      "outputs": []
    },
    {
      "cell_type": "code",
      "metadata": {
        "id": "GZ7ksxJn62Zj"
      },
      "source": [
        "bairros_amostra.shape"
      ],
      "execution_count": null,
      "outputs": []
    },
    {
      "cell_type": "code",
      "metadata": {
        "id": "q3oqpv4Y691K"
      },
      "source": [
        "bairros_amostra.unique()"
      ],
      "execution_count": null,
      "outputs": []
    },
    {
      "cell_type": "code",
      "metadata": {
        "id": "riayBJU17OdO"
      },
      "source": [
        "# CREATES SERIES WITH UNIQUE ITEMS FROM INDEX\n",
        "\n",
        "bairros_amostra = pd.Series(bairros_amostra.unique())\n",
        "bairros_amostra"
      ],
      "execution_count": null,
      "outputs": []
    },
    {
      "cell_type": "code",
      "metadata": {
        "id": "VA-9OZX67nMS"
      },
      "source": [
        "bairros_todos = pd.Series(bairros_todos.unique())\n",
        "bairros_todos"
      ],
      "execution_count": null,
      "outputs": []
    },
    {
      "cell_type": "code",
      "metadata": {
        "id": "kfTaNuCF882z"
      },
      "source": [
        "# VERIFICATION IF TABLES COMBINATION IS TRUE (SAME DATA)\n",
        "\n",
        "bairros_amostra.isin(bairros_todos)\n",
        "\n",
        "# INDEX 11 RETURNS FALSE"
      ],
      "execution_count": null,
      "outputs": []
    },
    {
      "cell_type": "code",
      "metadata": {
        "id": "ZlwQKEis9Vr6"
      },
      "source": [
        "# CORRECTING INDEX 11 (REPLACING \"JACAREPAGUÁ\" TO \"FREGUESIA\")\n",
        "\n",
        "bairros.loc['Jacarepaguá']"
      ],
      "execution_count": null,
      "outputs": []
    },
    {
      "cell_type": "code",
      "metadata": {
        "id": "IftOk7K0-ByI"
      },
      "source": [
        "bairros.loc['Freguesia']"
      ],
      "execution_count": null,
      "outputs": []
    },
    {
      "cell_type": "code",
      "metadata": {
        "id": "rG1EfltZ-DbD"
      },
      "source": [
        "dados_listings['imovel_endereco_bairro'].replace('Freguesia (Jacarepaguá)', 'Freguesia', inplace = True)"
      ],
      "execution_count": 23,
      "outputs": []
    },
    {
      "cell_type": "code",
      "metadata": {
        "id": "Gtmw7-It-js-"
      },
      "source": [
        "bairros_amostra = pd.Series(dados_listings['imovel_endereco_bairro'].unique())\n",
        "bairros_amostra"
      ],
      "execution_count": null,
      "outputs": []
    },
    {
      "cell_type": "code",
      "metadata": {
        "id": "HVzWWJ47-zRr"
      },
      "source": [
        "# VERIFICATION AFTER CORRECTION\n",
        "\n",
        "bairros_amostra.isin(bairros_todos)"
      ],
      "execution_count": null,
      "outputs": []
    },
    {
      "cell_type": "code",
      "metadata": {
        "id": "lmwCd91LgF2Y"
      },
      "source": [
        "dados_listings[['imovel_endereco_bairro', 'imovel_tipos_propriedade']]"
      ],
      "execution_count": null,
      "outputs": []
    },
    {
      "cell_type": "code",
      "metadata": {
        "id": "p3FHsk35_HKt"
      },
      "source": [
        "# TABLES MERGE\n",
        "\n",
        "dados_listings = pd.merge(\n",
        "    left = dados_listings,\n",
        "    right = bairros,\n",
        "    left_on = ['imovel_endereco_bairro', 'imovel_tipos_propriedade'], \n",
        "    right_index = True\n",
        ")\n",
        "\n",
        "dados_listings"
      ],
      "execution_count": null,
      "outputs": []
    },
    {
      "cell_type": "code",
      "metadata": {
        "id": "_F9R04HqhPBP"
      },
      "source": [
        "# ADDING INFORMATION\n",
        "\n",
        "dados_listings['anuncio_descricao']"
      ],
      "execution_count": null,
      "outputs": []
    },
    {
      "cell_type": "code",
      "metadata": {
        "id": "KJ3ItjMShymf"
      },
      "source": [
        "# TURNS NUMBERS TO INT\n",
        "\n",
        "configuracao = dados_listings['anuncio_descricao'].str.extractall('(\\d+)')"
      ],
      "execution_count": 28,
      "outputs": []
    },
    {
      "cell_type": "code",
      "metadata": {
        "id": "utMqTIfQiw0j"
      },
      "source": [
        "# RENAMES COLUMNS\n",
        "\n",
        "configuracao = configuracao.unstack().rename(columns = {0:'quartos', 1: 'suites', 2: 'banheiros'})\n",
        "configuracao"
      ],
      "execution_count": null,
      "outputs": []
    },
    {
      "cell_type": "code",
      "metadata": {
        "id": "qG9GsPwOjgPM"
      },
      "source": [
        "# REMOVES A LEVEL FROM TABLE\n",
        "\n",
        "configuracao.droplevel(level = 0, axis = 1)"
      ],
      "execution_count": null,
      "outputs": []
    },
    {
      "cell_type": "code",
      "metadata": {
        "id": "ej_-fi8yjw4Z"
      },
      "source": [
        "dados_listings = pd.merge(dados_listings, configuracao, left_index = True, right_index = True)\n",
        "dados_listings"
      ],
      "execution_count": null,
      "outputs": []
    },
    {
      "cell_type": "code",
      "metadata": {
        "id": "6bytKUiP3cvY"
      },
      "source": [
        "# DEFINING NEW CLASSIFICATIONS\n",
        "\n",
        "tipo_uso = {\n",
        "    'Apartamento': 'Residencial',\n",
        "    'Casa': 'Residencial',\n",
        "    'Cobertura': 'Residencial',\n",
        "    'Consultório': 'Comercial',\n",
        "    'Imóvel': 'Comercial',\n",
        "    'Loja': 'Comercial',\n",
        "    'Sala Comercial': 'Comercial'\n",
        "}"
      ],
      "execution_count": 31,
      "outputs": []
    },
    {
      "cell_type": "code",
      "metadata": {
        "id": "k6o-b9Az4C4n"
      },
      "source": [
        "dados_listings.imovel_tipos_propriedade.map(tipo_uso)"
      ],
      "execution_count": null,
      "outputs": []
    },
    {
      "cell_type": "code",
      "metadata": {
        "id": "orgEZ4AK4SQ9"
      },
      "source": [
        "imovel_tipos_uso = dados_listings.imovel_tipos_propriedade.map(tipo_uso)"
      ],
      "execution_count": 33,
      "outputs": []
    },
    {
      "cell_type": "code",
      "metadata": {
        "id": "9FIJ4b_K4caN"
      },
      "source": [
        "dados_listings.insert(loc = 0, column = 'imovel_tipos_uso', value = imovel_tipos_uso)\n",
        "dados_listings"
      ],
      "execution_count": null,
      "outputs": []
    },
    {
      "cell_type": "code",
      "metadata": {
        "id": "V2Rpg2Rt5Txv"
      },
      "source": [
        "# NUMERICAL VALUES\n",
        "\n",
        "valor_minimo = dados_listings['anuncio_valores_venda'].min()\n",
        "\n",
        "valor_maximo = dados_listings['anuncio_valores_venda'].max()"
      ],
      "execution_count": 35,
      "outputs": []
    },
    {
      "cell_type": "code",
      "metadata": {
        "id": "z3f5HpLs5xGJ"
      },
      "source": [
        "rotulos = ['Popular', 'Padrão', 'Alto Padrão']"
      ],
      "execution_count": 36,
      "outputs": []
    },
    {
      "cell_type": "code",
      "metadata": {
        "id": "TNUFm9Iz55cg"
      },
      "source": [
        "pd.cut(x = dados_listings['anuncio_valores_venda'], bins = 3, labels = rotulos)"
      ],
      "execution_count": null,
      "outputs": []
    },
    {
      "cell_type": "code",
      "metadata": {
        "id": "yXcwUDgq6QVU"
      },
      "source": [
        "classes = [valor_minimo, 400000, 2000000, valor_maximo]"
      ],
      "execution_count": 38,
      "outputs": []
    },
    {
      "cell_type": "code",
      "metadata": {
        "id": "3j251x5Z6kUo"
      },
      "source": [
        "# INCLUDES MININUM VALUE\n",
        "\n",
        "dados_listings['classe_valor'] = pd.cut(x = dados_listings['anuncio_valores_venda'], bins = 3, labels = rotulos, include_lowest = True)\n",
        "dados_listings"
      ],
      "execution_count": null,
      "outputs": []
    },
    {
      "cell_type": "code",
      "metadata": {
        "id": "b0oxmIBPJ7pO"
      },
      "source": [
        "# VALUE / M2\n",
        "\n",
        "dados_listings['valor_m2'] = dados_listings['anuncio_valores_venda'] / dados_listings['imovel_area']\n",
        "valor_m2 = lambda data: data['anuncio_valores_venda'] / data['imovel_area'] if data['imovel_area'] != 0 else 0\n",
        "dados_listings['valor_m2'] = dados_listings.apply(valor_m2, axis = 1)"
      ],
      "execution_count": 40,
      "outputs": []
    },
    {
      "cell_type": "code",
      "metadata": {
        "id": "lOk3C5RqMIE3"
      },
      "source": [
        "dados_listings[['anuncio_valores_venda', 'imovel_area', 'valor_m2']].iloc[16:19]"
      ],
      "execution_count": null,
      "outputs": []
    },
    {
      "cell_type": "code",
      "metadata": {
        "id": "s8xRFGibNGKa"
      },
      "source": [
        "dados_listings['Piscina'] = dados_listings['imovel_caracteristicas_condominio'].apply(lambda x: 'Piscina' in x)\n",
        "pd.set_option('display.max_colwidth', None)\n",
        "dados_listings[['imovel_caracteristicas_condominio', 'Piscina']].head()"
      ],
      "execution_count": null,
      "outputs": []
    },
    {
      "cell_type": "code",
      "metadata": {
        "id": "65Pd0aBOVrd_"
      },
      "source": [
        "# STATISTICS GROUPING\n",
        "\n",
        "dados_listings[['anuncio_valores_venda', 'anuncio_valores_condominio', 'anuncio_valores_iptu']].agg(['sum', 'mean', 'std'])"
      ],
      "execution_count": null,
      "outputs": []
    },
    {
      "cell_type": "code",
      "metadata": {
        "id": "EUp0StPVbBhf"
      },
      "source": [
        "agrupamento = dados_listings[['imovel_tipos_propriedade', 'valor_m2']].groupby(by = 'imovel_tipos_propriedade')\n",
        "agrupamento"
      ],
      "execution_count": null,
      "outputs": []
    },
    {
      "cell_type": "code",
      "metadata": {
        "id": "Saq1VGvIbmGP"
      },
      "source": [
        "agrupamento.mean().round()"
      ],
      "execution_count": null,
      "outputs": []
    },
    {
      "cell_type": "code",
      "metadata": {
        "id": "Rrt8lha0buJI"
      },
      "source": [
        "agrupamento.agg(func = ['min', 'mean', 'max', 'std'])"
      ],
      "execution_count": null,
      "outputs": []
    },
    {
      "cell_type": "code",
      "metadata": {
        "id": "TYw2GxW0cAnI"
      },
      "source": [
        "agrupamento = dados_listings[['imovel_tipos_propriedade', 'classe_valor', 'valor_m2']].groupby(by = ['imovel_tipos_propriedade', 'classe_valor'])\n",
        "agrupamento.mean().round()"
      ],
      "execution_count": null,
      "outputs": []
    },
    {
      "cell_type": "code",
      "metadata": {
        "id": "dypIBme5cwND"
      },
      "source": [
        "agrupamento.agg(func = ['min', 'mean', 'max', 'std'])"
      ],
      "execution_count": null,
      "outputs": []
    },
    {
      "cell_type": "code",
      "metadata": {
        "id": "E8ELfj_ldADB"
      },
      "source": [
        "dados_listings.value_counts(subset = 'imovel_tipos_propriedade', normalize = True)"
      ],
      "execution_count": null,
      "outputs": []
    },
    {
      "cell_type": "code",
      "metadata": {
        "id": "SzNOwNT0eT9m"
      },
      "source": [
        "dados_listings.value_counts(subset = ['imovel_tipos_uso', 'classe_valor'], normalize = True).to_frame(name = '%') * 100"
      ],
      "execution_count": null,
      "outputs": []
    },
    {
      "cell_type": "code",
      "metadata": {
        "id": "c-G4MUBlfMQU"
      },
      "source": [
        "# TURNS LINES TO COLUMNS\n",
        "\n",
        "bairros.unstack(level = 0)"
      ],
      "execution_count": null,
      "outputs": []
    },
    {
      "cell_type": "code",
      "metadata": {
        "id": "vvf7vXDifcWK"
      },
      "source": [
        "# TURNS COLUMNS TO LINES\n",
        "\n",
        "tabelas_estatisticas = agrupamento.agg(func = ['min', 'mean', 'max', 'std'])\n",
        "tabelas_estatisticas = tabelas_estatisticas.stack(dropna = False)\n",
        "tabelas_estatisticas.unstack(level = 1)"
      ],
      "execution_count": null,
      "outputs": []
    },
    {
      "cell_type": "code",
      "metadata": {
        "id": "8tjBY1kigcKy"
      },
      "source": [
        "agrupamento = dados_listings[['imovel_tipos_propriedade', 'classe_valor', 'valor_m2']].groupby(by = ['imovel_tipos_propriedade', 'classe_valor'])\n",
        "\n",
        "tabelas_estatisticas = agrupamento.agg(func = ['min', 'mean', 'max', 'std']).round(2)\n",
        "tabelas_estatisticas = tabelas_estatisticas.droplevel(level = 0, axis = 'columns')\n",
        "tabelas_estatisticas.reset_index(inplace = True)\n",
        "tabelas_estatisticas.pivot(\n",
        "    index = 'imovel_tipos_propriedade',\n",
        "    columns = 'classe_valor',\n",
        "    values = 'mean'\n",
        "    )"
      ],
      "execution_count": null,
      "outputs": []
    },
    {
      "cell_type": "code",
      "metadata": {
        "id": "YSuq3gMRiYco"
      },
      "source": [
        "dados_listings.pivot_table(\n",
        "    index = 'imovel_tipos_propriedade',\n",
        "    columns = 'classe_valor',\n",
        "    values = 'valor_m2',\n",
        "    fill_value = '-',\n",
        "    margins = True,\n",
        "    margins_name = 'Média Geral',\n",
        "    aggfunc = 'mean'\n",
        "    )"
      ],
      "execution_count": null,
      "outputs": []
    },
    {
      "cell_type": "code",
      "metadata": {
        "id": "2uO8TiOzjRta"
      },
      "source": [
        "dados_listings.pivot_table(\n",
        "    index = ['imovel_tipos_propriedade', 'classe_valor'],\n",
        "    columns = ['anuncio_tipos_listagem', 'Piscina'],\n",
        "    values = 'valor_m2',\n",
        "    fill_value = '-',\n",
        "    margins = True,\n",
        "    margins_name = 'Média Geral',\n",
        "    dropna = True,\n",
        "    aggfunc = 'mean'\n",
        "    )"
      ],
      "execution_count": null,
      "outputs": []
    },
    {
      "cell_type": "code",
      "metadata": {
        "id": "TBxQg_yFkSWJ"
      },
      "source": [
        "# TABULATIONS\n",
        "\n",
        "caracteristicas_propriedade = dados_listings['imovel_caracteristicas_propriedade']"
      ],
      "execution_count": 74,
      "outputs": []
    },
    {
      "cell_type": "code",
      "metadata": {
        "id": "n4l8bsYRk0UK"
      },
      "source": [
        "caracteristicas_propriedade_itens = caracteristicas_propriedade.explode()"
      ],
      "execution_count": 75,
      "outputs": []
    },
    {
      "cell_type": "code",
      "metadata": {
        "id": "DM2f58SPk7RR"
      },
      "source": [
        "caracteristicas_propriedade_itens.value_counts()"
      ],
      "execution_count": null,
      "outputs": []
    },
    {
      "cell_type": "code",
      "metadata": {
        "id": "Ir-IZs23lGce"
      },
      "source": [
        "pd.merge(\n",
        "    left = caracteristicas_propriedade_itens.value_counts(),\n",
        "    right = caracteristicas_propriedade_itens.value_counts(normalize = True),\n",
        "    left_index = True,\n",
        "    right_index = True\n",
        ")"
      ],
      "execution_count": null,
      "outputs": []
    },
    {
      "cell_type": "code",
      "metadata": {
        "id": "WYAdVPdOl400"
      },
      "source": [
        "caracteristicas_propriedade_itens.where(\n",
        "    cond = caracteristicas_propriedade_itens != '',\n",
        "    other = 'Sem características',\n",
        "    inplace = True\n",
        ")"
      ],
      "execution_count": 79,
      "outputs": []
    },
    {
      "cell_type": "code",
      "metadata": {
        "id": "qnUyXLkimRMc"
      },
      "source": [
        "# TURNS EMPTY VALUES TO \"SEM CARACTERÍSTICAS\"\n",
        "\n",
        "pd.merge(\n",
        "    left = caracteristicas_propriedade_itens.value_counts(),\n",
        "    right = caracteristicas_propriedade_itens.value_counts(normalize = True),\n",
        "    left_index = True,\n",
        "    right_index = True\n",
        ")"
      ],
      "execution_count": null,
      "outputs": []
    },
    {
      "cell_type": "code",
      "metadata": {
        "id": "X7VstL-NnF_t"
      },
      "source": [
        "# DATAFRAME STYLIZATION\n",
        "\n",
        "tabela_frequencias = pd.merge(\n",
        "    left = caracteristicas_propriedade_itens.value_counts(sort = False),\n",
        "    right = caracteristicas_propriedade_itens.value_counts(normalize = True, sort = False),\n",
        "    left_index = True,\n",
        "    right_index = True\n",
        ")"
      ],
      "execution_count": 83,
      "outputs": []
    },
    {
      "cell_type": "code",
      "metadata": {
        "id": "lTnG64JxnzK5"
      },
      "source": [
        "tabela_frequencias.query(\"index != 'Sem Características'\", inplace = True)"
      ],
      "execution_count": 84,
      "outputs": []
    },
    {
      "cell_type": "code",
      "metadata": {
        "id": "uESJragYzGHi"
      },
      "source": [
        "tabela_frequencias.rename(columns = {\n",
        "    'imovel_caracteristicas_propriedade_x': 'Frequências',\n",
        "    'imovel_caracteristicas_propriedade_y': 'Percentual'\n",
        "}, inplace = True)\n",
        "\n",
        "tabela_frequencias.rename_axis('Características', inplace = True)\n",
        "\n",
        "tabela_frequencias"
      ],
      "execution_count": null,
      "outputs": []
    },
    {
      "cell_type": "code",
      "metadata": {
        "id": "cUVASWDE0ATp"
      },
      "source": [
        "tabela_frequencias.style.format({'Percentual': '{:.2%}'})"
      ],
      "execution_count": null,
      "outputs": []
    },
    {
      "cell_type": "code",
      "metadata": {
        "id": "7nhvBA1S0uLs"
      },
      "source": [
        "tabela_frequencias.style.format({'Percentual': '{:.2%}'}).bar(subset = 'Percentual', vmin = 0.05, color = 'blue')"
      ],
      "execution_count": null,
      "outputs": []
    },
    {
      "cell_type": "code",
      "metadata": {
        "id": "WHPfpHP71IJs"
      },
      "source": [
        "tabela_frequencias.style.format({'Percentual': '{:.2%}'}).bar(subset = 'Percentual', vmin = 0.05, color = 'blue') \\\n",
        ".applymap(lambda x: f\"color: {'red' if x >= 35 else 'white'}\", subset = 'Frequências') \\\n",
        ".applymap(lambda x: f\"font-weight: {'bold' if x >= 35 else 'normal'}\", subset = 'Frequências')"
      ],
      "execution_count": null,
      "outputs": []
    },
    {
      "cell_type": "code",
      "metadata": {
        "id": "qqI8i3-R9-Dh"
      },
      "source": [
        "bairros_zona_sul = ['Ipanema', 'Botafogo', 'Catete', 'Copacabana', 'Lagoa', 'Flamengo', 'Gávea', 'Glória', 'Humaitá', 'Jardim Botânico', 'Laranjeiras',\n",
        "                    'Leme', 'Urca', 'Vidigal', 'Cosme Velho', 'São Conrado', 'Leblon', 'Rocinha']"
      ],
      "execution_count": 115,
      "outputs": []
    },
    {
      "cell_type": "code",
      "metadata": {
        "id": "2jC1G3wB31Bp"
      },
      "source": [
        "tabela_zona_sul = bairros.unstack().query(\"index in \" + str(bairros_zona_sul)).droplevel(level = 0, axis = 1)\n",
        "tabela_zona_sul.style.format('R$ {:,.2f}').highlight_max(color = 'green').highlight_min(color = '#C26161')"
      ],
      "execution_count": null,
      "outputs": []
    },
    {
      "cell_type": "code",
      "metadata": {
        "id": "twC1EqQVAHm8"
      },
      "source": [
        "tabela_zona_sul[['Apartamento']].style.format('R$ {:,.2f}').background_gradient(cmap = 'Reds')"
      ],
      "execution_count": null,
      "outputs": []
    },
    {
      "cell_type": "code",
      "metadata": {
        "id": "GfZh0ET7AseM"
      },
      "source": [
        "tabela_zona_sul.style.format('R$ {:,.2f}').background_gradient(subset = ['Apartamento'], cmap = 'Greens') \\\n",
        ".background_gradient(subset = ['Cobertura'], cmap = 'Blues')"
      ],
      "execution_count": null,
      "outputs": []
    },
    {
      "cell_type": "code",
      "metadata": {
        "id": "YPyvvm4hBPoc"
      },
      "source": [
        "# TO EXCEL\n",
        "\n",
        "tabela_zona_sul.style.format('R$ {:,.2f}').background_gradient(subset = ['Apartamento'], cmap = 'Greens') \\\n",
        ".background_gradient(subset = ['Cobertura'], cmap = 'Blues') \\\n",
        ".to_excel('Tabela Zona Sul.xlsx', engine = 'openpyxl')"
      ],
      "execution_count": 121,
      "outputs": []
    }
  ]
}