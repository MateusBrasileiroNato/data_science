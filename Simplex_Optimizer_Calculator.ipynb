{
  "nbformat": 4,
  "nbformat_minor": 0,
  "metadata": {
    "colab": {
      "name": "Simplex_Optimizer_Calculator",
      "provenance": [],
      "authorship_tag": "ABX9TyN9NPmnCvgkaLUoPcrUYwEE",
      "include_colab_link": true
    },
    "kernelspec": {
      "name": "python3",
      "display_name": "Python 3"
    },
    "language_info": {
      "name": "python"
    }
  },
  "cells": [
    {
      "cell_type": "markdown",
      "metadata": {
        "id": "view-in-github",
        "colab_type": "text"
      },
      "source": [
        "<a href=\"https://colab.research.google.com/github/MateusBrasileiroNato/data_science/blob/main/Simplex_Optimizer_Calculator.ipynb\" target=\"_parent\"><img src=\"https://colab.research.google.com/assets/colab-badge.svg\" alt=\"Open In Colab\"/></a>"
      ]
    },
    {
      "cell_type": "code",
      "metadata": {
        "id": "wWpOtc2UL0ID"
      },
      "source": [
        "import numpy as np\n",
        "from scipy.optimize import linprog "
      ],
      "execution_count": 2,
      "outputs": []
    },
    {
      "cell_type": "markdown",
      "metadata": {
        "id": "7MZFNySsbpf6"
      },
      "source": [
        "# SIMPLEX MAXIMIZATION"
      ]
    },
    {
      "cell_type": "code",
      "metadata": {
        "id": "O5g81ZlqbGrY"
      },
      "source": [
        "# EXAMPLE:\n",
        "\n",
        "# max = 5x1 + 7x2\n",
        "# s.t.\n",
        "# 1x1 + 0x2 = <= 16\n",
        "# 2x1 + 3x2 <= 19\n",
        "# 1x1 + 1x2 <= 8\n",
        "# x1, x2 => 0\n",
        "\n",
        "# a_ub = values of x in conditionals (+)\n",
        "# b_ub = values of conditionals results (+)\n",
        "# c = values of x in the base function for maximization (-)\n",
        "\n",
        "a_ub = np.array([[1, 0], [2, 3], [1, 1], [-1, 0], [0, -1]])\n",
        "b_ub = np.array([16, 19, 8, 0, 0])\n",
        "c = np.array([-5, -7])\n",
        "\n",
        "res = linprog(c, a_ub, b_ub)\n",
        "\n",
        "print('Optimal value:', round(res.fun*-1, ndigits=2),\n",
        "      '\\nx values:', res.x,\n",
        "      '\\nNumber of iterations performed:', res.nit,\n",
        "      '\\nStatus:', res.message)"
      ],
      "execution_count": null,
      "outputs": []
    },
    {
      "cell_type": "markdown",
      "metadata": {
        "id": "3L3qftyZbsPj"
      },
      "source": [
        "# SIMPLEX MINIMIZATION"
      ]
    },
    {
      "cell_type": "code",
      "metadata": {
        "id": "9AoRGtRCbwFf"
      },
      "source": [
        "# EXAMPLE:\n",
        "\n",
        "# min = 10x1 + 15x2 + 25x3\n",
        "# s.t.\n",
        "# 1x1 + 1x2 + 1x3 >= 1000\n",
        "# 1x1 - 2x2 + 0x3 >= 0\n",
        "# 0x1 + 0x2 + 1x3 >= 340\n",
        "# x1, x2, x3 => 0\n",
        "\n",
        "# a_ub = values of x in conditionals (-)\n",
        "# b_ub = values of conditionals results (-)\n",
        "# c = values of x in the base function for minimization (+)\n",
        "\n",
        "a_ub = np.array([[-1, -1, -1], [-1, 2, 0], [0, 0, -1], [-1, 0, 0], [0, -1, 0], [0, 0, -1]])\n",
        "b_ub = np.array([-1000, 0, -340, 0, 0, 0])\n",
        "c = np.array([10, 15, 25])\n",
        "\n",
        "res = linprog(c, A_ub=A, b_ub=b)\n",
        "\n",
        "print('Optimal value:', round(res.fun, ndigits=2),\n",
        "      '\\nx values:', res.x,\n",
        "      '\\nNumber of iterations performed:', res.nit,\n",
        "      '\\nStatus:', res.message)"
      ],
      "execution_count": null,
      "outputs": []
    }
  ]
}