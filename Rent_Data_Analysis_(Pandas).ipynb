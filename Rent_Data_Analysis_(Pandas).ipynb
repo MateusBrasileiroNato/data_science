{
  "nbformat": 4,
  "nbformat_minor": 0,
  "metadata": {
    "colab": {
      "name": "Rent Data Analysis (Pandas)",
      "provenance": [],
      "authorship_tag": "ABX9TyOJ/OJwxMWmr2P0rGq5vQfp",
      "include_colab_link": true
    },
    "kernelspec": {
      "name": "python3",
      "display_name": "Python 3"
    },
    "language_info": {
      "name": "python"
    }
  },
  "cells": [
    {
      "cell_type": "markdown",
      "metadata": {
        "id": "view-in-github",
        "colab_type": "text"
      },
      "source": [
        "<a href=\"https://colab.research.google.com/github/MateusBrasileiroNato/data_science/blob/main/Rent_Data_Analysis_(Pandas).ipynb\" target=\"_parent\"><img src=\"https://colab.research.google.com/assets/colab-badge.svg\" alt=\"Open In Colab\"/></a>"
      ]
    },
    {
      "cell_type": "markdown",
      "metadata": {
        "id": "ujDKnz3TbIgU"
      },
      "source": [
        "# Report Analysis I"
      ]
    },
    {
      "cell_type": "code",
      "metadata": {
        "id": "ji37iQ-9YX2N"
      },
      "source": [
        "import pandas as pd\n",
        "\n",
        "dados = pd.read_csv('aluguel.csv', sep = ';')\n",
        "dados"
      ],
      "execution_count": null,
      "outputs": []
    },
    {
      "cell_type": "code",
      "metadata": {
        "id": "-oqP8KnwakLk"
      },
      "source": [
        "# Shows all information about the database file\n",
        "\n",
        "dados.info()"
      ],
      "execution_count": null,
      "outputs": []
    },
    {
      "cell_type": "code",
      "metadata": {
        "id": "SN0mJQOEaxP9"
      },
      "source": [
        "dados.head(10)"
      ],
      "execution_count": null,
      "outputs": []
    },
    {
      "cell_type": "code",
      "metadata": {
        "id": "E3uvOaukbyLR"
      },
      "source": [
        "data_type = pd.DataFrame(dados.dtypes, columns = ['Data Type'])\n",
        "data_type.columns.name = 'Variables'\n",
        "data_type"
      ],
      "execution_count": null,
      "outputs": []
    },
    {
      "cell_type": "code",
      "metadata": {
        "id": "UtWZvPiuc38x"
      },
      "source": [
        "dados.shape[0]\n",
        "dados.shape[1]\n",
        "\n",
        "print('The database presents {} properties registrations and {} variables'.format(dados.shape[0], dados.shape[1]))"
      ],
      "execution_count": null,
      "outputs": []
    },
    {
      "cell_type": "markdown",
      "metadata": {
        "id": "kmjRNsShgmo_"
      },
      "source": [
        "# Report Analysis II"
      ]
    },
    {
      "cell_type": "code",
      "metadata": {
        "id": "63TqaYFhgqzE"
      },
      "source": [
        "import pandas as pd\n",
        "\n",
        "dados = pd.read_csv('aluguel.csv', sep = ';')\n",
        "dados.head(10)"
      ],
      "execution_count": null,
      "outputs": []
    },
    {
      "cell_type": "code",
      "metadata": {
        "id": "251qeHY0g_rh"
      },
      "source": [
        "# Shows the unique types of properties\n",
        "\n",
        "property_type = dados['Tipo']\n",
        "property_type.drop_duplicates(inplace = True)\n",
        "property_type = pd.DataFrame(property_type)\n",
        "property_type"
      ],
      "execution_count": null,
      "outputs": []
    },
    {
      "cell_type": "code",
      "metadata": {
        "id": "Vg6_qkmShv9A"
      },
      "source": [
        "# Shows the amount of indexes in database\n",
        "\n",
        "for i in range(property_type.shape[0]):\n",
        "    print(i)"
      ],
      "execution_count": null,
      "outputs": []
    },
    {
      "cell_type": "code",
      "metadata": {
        "id": "Ymr1-cLXkoAY"
      },
      "source": [
        "# Organizes and renames the \"Id\" column in unique types\n",
        "\n",
        "property_type.index = range(property_type.shape[0])\n",
        "property_type.columns.name = 'Id'\n",
        "property_type"
      ],
      "execution_count": null,
      "outputs": []
    },
    {
      "cell_type": "markdown",
      "metadata": {
        "id": "WTNQMtctrlhb"
      },
      "source": [
        "# Report Analysis III"
      ]
    },
    {
      "cell_type": "code",
      "metadata": {
        "id": "_ehHoUw6roJ_"
      },
      "source": [
        "import pandas as pd\n",
        "\n",
        "dados = pd.read_csv('aluguel.csv', sep = ';')\n",
        "dados.head(10)"
      ],
      "execution_count": null,
      "outputs": []
    },
    {
      "cell_type": "code",
      "metadata": {
        "id": "R3Z4c-0yr8-R"
      },
      "source": [
        "list(dados['Tipo'].drop_duplicates())"
      ],
      "execution_count": null,
      "outputs": []
    },
    {
      "cell_type": "code",
      "metadata": {
        "id": "GUuj-lNNsV3f"
      },
      "source": [
        "# Verification\n",
        "\n",
        "residential = ['Quitinete',\n",
        " 'Casa',\n",
        " 'Apartamento',\n",
        " 'Casa de Condomínio',\n",
        " 'Casa de Vila']\n",
        "\n",
        "selection = dados['Tipo'].isin(residential)\n",
        "selection"
      ],
      "execution_count": null,
      "outputs": []
    },
    {
      "cell_type": "code",
      "metadata": {
        "id": "SJrjttsdtxqv"
      },
      "source": [
        "# Shows unique residential property types\n",
        "\n",
        "dados_residential = dados[selection]\n",
        "list(dados_residential['Tipo'].drop_duplicates())"
      ],
      "execution_count": null,
      "outputs": []
    },
    {
      "cell_type": "code",
      "metadata": {
        "id": "1981bsiturML"
      },
      "source": [
        "dados_residential.shape[0]"
      ],
      "execution_count": null,
      "outputs": []
    },
    {
      "cell_type": "code",
      "metadata": {
        "id": "KV33N9WhuvEz"
      },
      "source": [
        "dados.shape[0]"
      ],
      "execution_count": null,
      "outputs": []
    },
    {
      "cell_type": "code",
      "metadata": {
        "id": "decOJUokuz6d"
      },
      "source": [
        "# Shows a table of residential properties only\n",
        "\n",
        "dados_residential.index = range(dados_residential.shape[0])\n",
        "dados_residential"
      ],
      "execution_count": null,
      "outputs": []
    },
    {
      "cell_type": "code",
      "metadata": {
        "id": "7j35pCnqwXvF"
      },
      "source": [
        "# Exports residential rents to a \"cvs\" file\n",
        "\n",
        "dados_residential.to_csv('residential_rent.csv', sep = ';')"
      ],
      "execution_count": null,
      "outputs": []
    },
    {
      "cell_type": "markdown",
      "metadata": {
        "id": "ZqGJVaDoygT-"
      },
      "source": [
        "# Report Analysis IV"
      ]
    },
    {
      "cell_type": "code",
      "metadata": {
        "id": "e0JYPSb8ye6_"
      },
      "source": [
        "import pandas as pd\n",
        "\n",
        "dados = pd.read_csv('residential_rent.csv', sep = ';')\n",
        "dados"
      ],
      "execution_count": null,
      "outputs": []
    },
    {
      "cell_type": "code",
      "metadata": {
        "id": "xjjlm6WzzFvq"
      },
      "source": [
        "# Selects only apartments\n",
        "\n",
        "selection = dados['Tipo'] == 'Apartamento'\n",
        "n1 = dados[selection].shape[0]\n",
        "n1"
      ],
      "execution_count": null,
      "outputs": []
    },
    {
      "cell_type": "code",
      "metadata": {
        "id": "viVZfKcizrrk"
      },
      "source": [
        "# Selects only \"house type\" properties \n",
        "\n",
        "selection = (dados['Tipo'] == 'Casa') | (dados['Tipo'] == 'Casa de Condomínio') | (dados['Tipo'] == 'Casa de Vila')\n",
        "n2 = dados[selection].shape[0]\n",
        "n2"
      ],
      "execution_count": null,
      "outputs": []
    },
    {
      "cell_type": "code",
      "metadata": {
        "id": "zWA8baVb06As"
      },
      "source": [
        "# 60 <= Area <= 100\n",
        "\n",
        "selection = (dados['Area'] >= 60) & (dados['Area'] <= 100)\n",
        "n3 = dados[selection].shape[0]\n",
        "n3"
      ],
      "execution_count": null,
      "outputs": []
    },
    {
      "cell_type": "code",
      "metadata": {
        "id": "410zw6h01hb2"
      },
      "source": [
        "# >= 4 Rooms and rent <= R$ 2.000,00\n",
        "\n",
        "selection = (dados['Quartos'] >= 4) & (dados['Valor'] < 2000)\n",
        "n4 = dados[selection].shape[0]\n",
        "n4"
      ],
      "execution_count": null,
      "outputs": []
    },
    {
      "cell_type": "code",
      "metadata": {
        "id": "8z2dAjmQ24k7"
      },
      "source": [
        "print(f'''\n",
        "Apartments: {n1}\n",
        "Houses: {n2}\n",
        "60 <= Area <= 100: {n3}\n",
        ">= 4 Rooms and rent <= R$ 2.000,00: {n4}\n",
        "''')"
      ],
      "execution_count": null,
      "outputs": []
    },
    {
      "cell_type": "markdown",
      "metadata": {
        "id": "U_G5dgspaCCn"
      },
      "source": [
        "# Report Analysis V"
      ]
    },
    {
      "cell_type": "code",
      "metadata": {
        "id": "vpfC7AmoaEw-"
      },
      "source": [
        "import pandas as pd\n",
        "\n",
        "dados = pd.read_csv('residential_rent.csv', sep = ';')"
      ],
      "execution_count": null,
      "outputs": []
    },
    {
      "cell_type": "code",
      "metadata": {
        "colab": {
          "base_uri": "https://localhost:8080/"
        },
        "id": "S9tpMLt-buEW",
        "outputId": "eda4cad5-8a11-4ea9-82f5-312138464e8b"
      },
      "source": [
        "# Drops \"null\" rent values \n",
        "\n",
        "A = dados.shape[0]\n",
        "dados.dropna(subset = ['Valor'], inplace = True)\n",
        "B = dados.shape[0]\n",
        "A - B "
      ],
      "execution_count": null,
      "outputs": [
        {
          "output_type": "execute_result",
          "data": {
            "text/plain": [
              "9"
            ]
          },
          "metadata": {
            "tags": []
          },
          "execution_count": 11
        }
      ]
    },
    {
      "cell_type": "code",
      "metadata": {
        "id": "Bx-PnAR8cNrP"
      },
      "source": [
        "# Selects \"null\" condominium values\n",
        "\n",
        "selection = (dados['Tipo'] == 'Apartamento') & (dados['Condominio'].isnull())"
      ],
      "execution_count": null,
      "outputs": []
    },
    {
      "cell_type": "code",
      "metadata": {
        "id": "dU7pffFNeeRr"
      },
      "source": [
        "# Drops \"null\" condominium values as \"~\"\" inverts Boolean\n",
        "\n",
        "A = dados.shape[0]\n",
        "dados = dados[~selection]\n",
        "B = dados.shape[0]\n",
        "A - B "
      ],
      "execution_count": null,
      "outputs": []
    },
    {
      "cell_type": "code",
      "metadata": {
        "id": "mRktB352fK3P"
      },
      "source": [
        "# Turns condominium and IPTU taxes to 0\n",
        "\n",
        "dados = dados.fillna({'Condominio': 0, 'IPTU': 0})\n",
        "dados[dados['Condominio'].isnull()].shape[0]\n",
        "dados[dados['IPTU'].isnull()].shape[0]\n",
        "\n",
        "dados.info()"
      ],
      "execution_count": null,
      "outputs": []
    },
    {
      "cell_type": "code",
      "metadata": {
        "id": "smZo0RMdgQ0t"
      },
      "source": [
        "dados_residential.to_csv('residential_rent.csv', sep = ';', index = False)"
      ],
      "execution_count": null,
      "outputs": []
    },
    {
      "cell_type": "markdown",
      "metadata": {
        "id": "olWARVechB_c"
      },
      "source": [
        "# Report Analysis VI"
      ]
    },
    {
      "cell_type": "code",
      "metadata": {
        "id": "u02KavslhEdX"
      },
      "source": [
        "import pandas as pd\n",
        "\n",
        "dados = pd.read_csv('residential_rent.csv', sep = ';')"
      ],
      "execution_count": null,
      "outputs": []
    },
    {
      "cell_type": "code",
      "metadata": {
        "id": "JQm56TAGhU0G"
      },
      "source": [
        "# Creates total value \n",
        "\n",
        "dados['Valor Bruto'] = dados['Valor'] + dados['Condominio'] + dados['IPTU']\n",
        "dados.head(10)"
      ],
      "execution_count": null,
      "outputs": []
    },
    {
      "cell_type": "code",
      "metadata": {
        "id": "1c5xR32YhzKf"
      },
      "source": [
        "# Creates value per m2\n",
        "\n",
        "dados['Valor m2'] = (dados['Valor'] / dados['Area']).round(2) # rounds to 2 decimal\n",
        "\n",
        "dados.head(10)"
      ],
      "execution_count": null,
      "outputs": []
    },
    {
      "cell_type": "code",
      "metadata": {
        "id": "dUYyiUkZikUt"
      },
      "source": [
        "# Creates total value per m2\n",
        "\n",
        "dados['Valor Bruto m2'] = (dados['Valor Bruto'] / dados['Area']).round(2) # rounds to 2 decimal\n",
        "\n",
        "dados.head(10)"
      ],
      "execution_count": null,
      "outputs": []
    },
    {
      "cell_type": "code",
      "metadata": {
        "id": "ag4C3JR3kQdI"
      },
      "source": [
        "# Lambda sets as \"Casa\" at column \"Tipo Agregado\" where \"x\" is in variable \"casa\" at column \"Tipo\"\n",
        "\n",
        "casa = ['Casa', 'Casa de Condominio', 'Casa de Vila']\n",
        "dados['Tipo Agregado'] = dados['Tipo'].apply(lambda x: 'Casa' if x in casa else 'Apartamento')\n",
        "\n",
        "dados.head(10)"
      ],
      "execution_count": null,
      "outputs": []
    },
    {
      "cell_type": "code",
      "metadata": {
        "id": "JL6clNjNnVSb"
      },
      "source": [
        "# Creates table with \"dados_aux\" columns only\n",
        "\n",
        "dados_aux = pd.DataFrame(dados[['Tipo Agregado', 'Valor m2', 'Valor Bruto', 'Valor Bruto m2']])\n",
        "\n",
        "dados_aux.head(10)"
      ],
      "execution_count": null,
      "outputs": []
    },
    {
      "cell_type": "code",
      "metadata": {
        "id": "6EBQagTrqeiD"
      },
      "source": [
        "del dados_aux['Valor Bruto']\n",
        "\n",
        "dados_aux.head(10)"
      ],
      "execution_count": null,
      "outputs": []
    },
    {
      "cell_type": "code",
      "metadata": {
        "id": "JRA5QkywrF0c"
      },
      "source": [
        "dados_aux.pop('Valor Bruto m2')\n",
        "\n",
        "dados_aux.head(10)"
      ],
      "execution_count": null,
      "outputs": []
    },
    {
      "cell_type": "code",
      "metadata": {
        "id": "LkJSK315rjg4"
      },
      "source": [
        "# Deletes columns \"Valor Bruto\" and \"Valor Bruto m2\"\n",
        "\n",
        "dados.drop(['Valor Bruto', 'Valor Bruto m2'], axis = 1, inplace = True)\n",
        "\n",
        "dados.head(10)"
      ],
      "execution_count": null,
      "outputs": []
    },
    {
      "cell_type": "code",
      "metadata": {
        "id": "ICLAE0EssJKO"
      },
      "source": [
        "dados.to_csv('residential_rent.csv', sep = ';', index = False)"
      ],
      "execution_count": 49,
      "outputs": []
    },
    {
      "cell_type": "markdown",
      "metadata": {
        "id": "UExCTHQeskK8"
      },
      "source": [
        "# Report Analysis VII"
      ]
    },
    {
      "cell_type": "code",
      "metadata": {
        "id": "rXPgCqxTsk6a"
      },
      "source": [
        "import pandas as pd\n",
        "\n",
        "dados = pd.read_csv('residential_rent.csv', sep = ';')"
      ],
      "execution_count": 50,
      "outputs": []
    },
    {
      "cell_type": "code",
      "metadata": {
        "id": "eddh8pn0s9l-"
      },
      "source": [
        "dados['Valor'].mean()"
      ],
      "execution_count": null,
      "outputs": []
    },
    {
      "cell_type": "code",
      "metadata": {
        "id": "bsfk2bJ1tbb-"
      },
      "source": [
        "# Selects unique districts\n",
        "\n",
        "bairros = ['Barra da Tijuca', 'Copacabana', 'Ipanema', 'Leblon', 'Botafogo', 'Flamengo', 'Tijuca']\n",
        "selection = dados['Bairro'].isin(bairros)\n",
        "dados = dados[selection]"
      ],
      "execution_count": 52,
      "outputs": []
    },
    {
      "cell_type": "code",
      "metadata": {
        "id": "vro_yePyuVNg"
      },
      "source": [
        "# Group districts\n",
        "\n",
        "group_bairro = dados.groupby('Bairro')"
      ],
      "execution_count": 53,
      "outputs": []
    },
    {
      "cell_type": "code",
      "metadata": {
        "id": "ggEniCkoxeb4"
      },
      "source": [
        "# Shows mean values by districts\n",
        "\n",
        "group_bairro['Valor'].mean().round(2)"
      ],
      "execution_count": null,
      "outputs": []
    },
    {
      "cell_type": "code",
      "metadata": {
        "id": "UtZgKuy3yP-H"
      },
      "source": [
        "# Describes a set of statistics information about values\n",
        "\n",
        "group_bairro['Valor'].describe().round(2)"
      ],
      "execution_count": null,
      "outputs": []
    },
    {
      "cell_type": "code",
      "metadata": {
        "id": "lCKjAheZy8yz"
      },
      "source": [
        "# Improving describing visualization\n",
        "\n",
        "group_bairro['Valor'].aggregate(['min', 'max']).rename(columns = {'min': 'Mínimo', 'max': 'Máximo'})"
      ],
      "execution_count": null,
      "outputs": []
    },
    {
      "cell_type": "markdown",
      "metadata": {
        "id": "TUQyZytO2ltB"
      },
      "source": [
        "# Report Analysis VIII"
      ]
    },
    {
      "cell_type": "code",
      "metadata": {
        "id": "ryvEoJ2f0iR9"
      },
      "source": [
        "%matplotlib inline\n",
        "import matplotlib.pyplot as plt\n",
        "plt.rc('figure', figsize = (20, 10))\n",
        "\n",
        "dados = pd.read_csv('residential_rent.csv', sep = ';')"
      ],
      "execution_count": 78,
      "outputs": []
    },
    {
      "cell_type": "code",
      "metadata": {
        "id": "-ZGsBIsR0-wl"
      },
      "source": [
        "# Plots\n",
        "\n",
        "fig = group_bairro['Valor'].mean().plot.bar(color = 'blue')\n",
        "fig.set_ylabel('Valor do Aluguel')\n",
        "fig.set_title('Valor Médio do Aluguel por Bairro', {'fontsize': 22})"
      ],
      "execution_count": null,
      "outputs": []
    },
    {
      "cell_type": "code",
      "metadata": {
        "id": "52sbknxw22Rv"
      },
      "source": [
        "# Removing outliers\n",
        "\n",
        "dados.boxplot(['Valor'])"
      ],
      "execution_count": null,
      "outputs": []
    },
    {
      "cell_type": "code",
      "metadata": {
        "id": "yUYu2aOu3RxL"
      },
      "source": [
        "# Filters values above R$ 500.000,00\n",
        "\n",
        "dados[dados['Valor'] >= 500000]"
      ],
      "execution_count": null,
      "outputs": []
    },
    {
      "cell_type": "code",
      "metadata": {
        "id": "DoiW4Y9b4Id7"
      },
      "source": [
        "# Calculates quartiles\n",
        "\n",
        "valor = dados['Valor']\n",
        "\n",
        "Q1 = valor.quantile(.25)\n",
        "Q3 = valor.quantile(.75)\n",
        "IIQ = Q3 - Q1\n",
        "inferior_limit = Q1 - 1.5 * IIQ\n",
        "superior_limit = Q1 + 1.5 * IIQ"
      ],
      "execution_count": 82,
      "outputs": []
    },
    {
      "cell_type": "code",
      "metadata": {
        "id": "05A0sZGM4zew"
      },
      "source": [
        "# Creates new database between limits\n",
        "\n",
        "selection = (valor >= inferior_limit) & (valor <= superior_limit)\n",
        "dados_new = dados[selection]"
      ],
      "execution_count": 83,
      "outputs": []
    },
    {
      "cell_type": "code",
      "metadata": {
        "id": "g3X_hJQy5Bri"
      },
      "source": [
        "dados_new.boxplot(['Valor'])"
      ],
      "execution_count": null,
      "outputs": []
    },
    {
      "cell_type": "code",
      "metadata": {
        "id": "9hkYKnby5c46"
      },
      "source": [
        "# Comparison before and after\n",
        "\n",
        "dados.hist(['Valor'])\n",
        "dados_new.hist(['Valor'])"
      ],
      "execution_count": null,
      "outputs": []
    },
    {
      "cell_type": "code",
      "metadata": {
        "id": "cy9x-Ocq6cm4"
      },
      "source": [
        "# Boxplot by property type\n",
        "\n",
        "dados.boxplot(['Valor'], by = ['Tipo']) "
      ],
      "execution_count": null,
      "outputs": []
    },
    {
      "cell_type": "code",
      "metadata": {
        "id": "9JIjpEDr7jKK"
      },
      "source": [
        "group_type = dados.groupby('Tipo')['Valor']\n",
        "\n",
        "Q1 = group_type.quantile(.25)\n",
        "Q3 = group_type.quantile(.75)\n",
        "IIQ = Q3 - Q1\n",
        "inferior_limit = Q1 - 1.5 * IIQ\n",
        "superior_limit = Q1 + 1.5 * IIQ"
      ],
      "execution_count": 89,
      "outputs": []
    },
    {
      "cell_type": "code",
      "metadata": {
        "id": "xeBXLPJz7_Af"
      },
      "source": [
        "# Filters and concats by type and value\n",
        "\n",
        "dados_new = pd.DataFrame()\n",
        "\n",
        "for t in group_type.groups.keys():\n",
        "    eh_type = dados['Tipo'] == t\n",
        "    eh_in_limit = (dados['Valor'] >= inferior_limit[t]) & (dados['Valor'] <= superior_limit[t])\n",
        "    selection = eh_type & eh_in_limit\n",
        "    dados_selection = dados[selection]\n",
        "    dados_new = pd.concat([dados_new, dados_selection])"
      ],
      "execution_count": 94,
      "outputs": []
    },
    {
      "cell_type": "code",
      "metadata": {
        "id": "adZPJP6i9vb9"
      },
      "source": [
        "dados_new.boxplot(['Valor'], by = ['Tipo']) "
      ],
      "execution_count": null,
      "outputs": []
    },
    {
      "cell_type": "code",
      "metadata": {
        "id": "ZFKYGtTO9_0m"
      },
      "source": [
        "dados_new.to_csv('residential_rent_no_outliers.csv', sep = ';', index = False)"
      ],
      "execution_count": 96,
      "outputs": []
    }
  ]
}